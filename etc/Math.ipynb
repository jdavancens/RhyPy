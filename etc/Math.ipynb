{
 "cells": [
  {
   "cell_type": "markdown",
   "metadata": {},
   "source": [
    "# Distance functions between two equal length, common pulse rhythms\n",
    "## Representation: consider 1 bar of $\\frac{5}{16}$ with one eighth-note and one dotted eighth-note.\n",
    "### As binary string\n",
    "$$ X = 10100 $$\n",
    "### As adjacent interval vector\n",
    "$$ \\text{iv}(X) = [0,1,1] $$\n",
    "### As onset vector\n",
    "$$ \\text{ov}(X) = [0, 2] $$\n",
    "### As inter-onset interval vector\n",
    "$$ \\text{ioiv}(X) = [2,3] $$\n",
    "### As interval difference vector ???\n",
    "## Distance functions\n",
    "### Hamming distance\n",
    "For binary strings A and B:\n",
    "$$ d_H(A, B) = \\sum_{i=1}^N \\left|A_i - B_i \\right|$$\n",
    "### Euclidean interval vector distance\n",
    "For inter-onset interval vectors u and v:\n",
    "$$ d_E(u, v) = \\sqrt{\\sum_{i=1}^N (u_i - v_i)^2} $$\n",
    "### Swap distance (Earth mover's distance)\n",
    "For onset vectors u and v:\n",
    "$$ d_{SWAP}(u, v) = \\sum_{i=1}^N |a-b| $$\n",
    "### Chronotonic distance\n",
    "For inter-onset interval vectors u and v:\n",
    "$$ d_C(u, v) = \\left| \\sum_{i=1}^N u_i^2 - \\sum_{i=1}^N v_i^2 \\right|$$\n",
    "### Interval difference vector distance ???"
   ]
  },
  {
   "cell_type": "code",
   "execution_count": null,
   "metadata": {
    "collapsed": true
   },
   "outputs": [],
   "source": []
  }
 ],
 "metadata": {
  "kernelspec": {
   "display_name": "Python 2",
   "language": "python",
   "name": "python2"
  },
  "language_info": {
   "codemirror_mode": {
    "name": "ipython",
    "version": 2
   },
   "file_extension": ".py",
   "mimetype": "text/x-python",
   "name": "python",
   "nbconvert_exporter": "python",
   "pygments_lexer": "ipython2",
   "version": "2.7.11"
  }
 },
 "nbformat": 4,
 "nbformat_minor": 0
}
